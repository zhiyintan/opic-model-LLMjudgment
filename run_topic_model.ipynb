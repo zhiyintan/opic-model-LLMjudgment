{
 "cells": [
  {
   "cell_type": "code",
   "execution_count": 1,
   "metadata": {},
   "outputs": [],
   "source": [
    "# Select a topic model\n",
    "model = \"lda\" ; from src.topic_models.lda_model import LDAData, LDAModelTrainer\n",
    "#model = \"prodlda\"; from src.topic_models.prodlda_model import ProdLDAData, ProdLDATrainer\n",
    "#model = \"combinedtm\"; from src.topic_models.combinedtm_model import CombinedTMData, CombinedTMTrainer\n",
    "#model = \"bertopic\"; from src.topic_models.bertopic_model import BERTopicData, BERTopicTrainer"
   ]
  },
  {
   "cell_type": "code",
   "execution_count": 2,
   "metadata": {},
   "outputs": [],
   "source": [
    "# List data path\n",
    "train_path = \"data/raw/20ng/train.csv\"\n",
    "test_path = \"data/raw/20ng/test.csv\"\n",
    "\n",
    "# Set result path\n",
    "result_dir = f\"data/topic_model_output/{model}\""
   ]
  },
  {
   "cell_type": "code",
   "execution_count": 3,
   "metadata": {},
   "outputs": [],
   "source": [
    "# Parameters for model training\n",
    "\n",
    "# how many topic words for each topic to be remained, are they printed\n",
    "num_topic_words = 10\n",
    "print_topic_words = True\n",
    "\n",
    "# run n times\n",
    "num_iterations = 1\n",
    "\n",
    "# to get the topic distribution of test data or not\n",
    "run_test = False"
   ]
  },
  {
   "cell_type": "code",
   "execution_count": 4,
   "metadata": {},
   "outputs": [],
   "source": [
    "# Parameters for topic model, can be revised by go to the definition of \"get_parameter_combinations\"\n",
    "from src.topic_models.utils.data_utils import get_parameter_combinations\n",
    "preprocessing_params = {\"vocab_size\": 10000, \"stopwords\": 'English'}\n",
    "parameter_combinations = get_parameter_combinations(model)"
   ]
  },
  {
   "cell_type": "code",
   "execution_count": 5,
   "metadata": {},
   "outputs": [
    {
     "name": "stderr",
     "output_type": "stream",
     "text": [
      "Processing train texts: 100%|██████████| 11415/11415 [00:00<00:00, 46947.44it/s]\n",
      "Processing test texts: 100%|██████████| 4894/4894 [00:00<00:00, 47867.95it/s]\n"
     ]
    }
   ],
   "source": [
    "# Load data\n",
    "lda_data = LDAData(train_path, test_path, preprocessing_params)\n",
    "#prodlda_data = ProdLDAData(train_path, test_path, preprocessing_params)\n",
    "#combinedtm_data = CombinedTMData(train_path, test_path, preprocessing_params)\n",
    "#bertopic_data = BERTopicData(train_path, test_path, preprocessing_params)"
   ]
  },
  {
   "cell_type": "code",
   "execution_count": 6,
   "metadata": {},
   "outputs": [],
   "source": [
    "# Prepare model trainer\n",
    "trainer = LDAModelTrainer(lda_data, num_topic_words, parameter_combinations, result_dir, mode='parameters_tuning', print_topic_words=print_topic_words, run_test=run_test)\n",
    "#trainer = ProdLDATrainer(prodlda_data, num_topic_words, parameter_combinations, result_dir, mode='parameters_tuning', print_topic_words=print_topic_words, run_test=run_test)\n",
    "#trainer = CombinedTMTrainer(combinedtm_data, num_topic_words, parameter_combinations, result_dir, mode='parameters_tuning', print_topic_words=print_topic_words, run_test=run_test)\n",
    "#trainer = BERTopicTrainer(bertopic_data, num_topic_words, parameter_combinations, result_dir, mode='parameters_tuning', print_topic_words=print_topic_words, run_test=run_test)"
   ]
  },
  {
   "cell_type": "code",
   "execution_count": 7,
   "metadata": {},
   "outputs": [
    {
     "name": "stderr",
     "output_type": "stream",
     "text": [
      "Training Model with 1 Parameter Combinations:   0%|          | 0/1 [00:00<?, ?it/s]"
     ]
    },
    {
     "name": "stdout",
     "output_type": "stream",
     "text": [
      "Topic 0: gun weapon firearm criminal crime tank control people cop death\n",
      "Topic 1: year ago ticket time month couple home kill family defense\n",
      "Topic 2: win noise audio bug line low simple power large rule\n",
      "Topic 3: turkish people genocide man homosexual population gay muslim army child\n",
      "Topic 4: government encryption chip clipper law privacy technology security enforcement key\n",
      "Topic 5: cover black white man art issue story green jewish copy\n",
      "Topic 6: good sell price buy excellent condition year sale offer include\n",
      "Topic 7: belief atheist answer question claim exist atheism true evidence statement\n",
      "Topic 8: drive disk hard software work scsi controller problem ide floppy\n",
      "Topic 9: space launch mission program satellite orbit shuttle information solar earth\n",
      "Topic 10: people happen kill leave burn woman live start home time\n",
      "Topic 11: file program print printer copy software version directory format work\n",
      "Topic 12: blue hole lead cut pick red clock rich detect date\n",
      "Topic 13: disease study patient medical problem food year people good number\n",
      "Topic 14: package stuff delete radio day shift mirror credit inside fault\n",
      "Topic 15: year time pain week problem start good doctor bad thread\n",
      "Topic 16: armenian russian village war people murder massacre soldier government attack\n",
      "Topic 17: state government law israeli people arab country force action land\n",
      "Topic 18: tape insurance private master canadian installation health drive service track\n",
      "Topic 19: president member press national decision talk continue today general review\n",
      "Topic 20: window run problem work driver mode manager fine screen load\n",
      "Topic 21: option station mouse button build table capability work region rocket\n",
      "Topic 22: mind brain term thing funny world watch mistake camera stupid\n",
      "Topic 23: speed scsi fast frame rate bit air test movie temperature\n",
      "Topic 24: drug society music power government cool heat freedom individual abuse\n",
      "Topic 25: face body battery surface picture bomb water fall earth impact\n",
      "Topic 26: bank arm center cheap band observation pair seal people surrender\n",
      "Topic 27: image color bit graphic format program display line screen mode\n",
      "Topic 28: section send offer entry sale include follow license mail shipping\n",
      "Topic 29: monitor ground cable connect modem power apple wire pin turn\n",
      "Topic 30: key chip block bit secret number public encryption clipper algorithm\n",
      "Topic 31: car engine drive tire mile wheel brake owner speed road\n",
      "Topic 32: attack measure search wave force produce random method figure time\n",
      "Topic 33: people religion word point time life man thing religious true\n",
      "Topic 34: church point plane christian catholic question challenge tradition people context\n",
      "Topic 35: card video board bit driver bus chip work upgrade ram\n",
      "Topic 36: greek reserve state percent energy government serve minority dream alternative\n",
      "Topic 37: application widget server file include user resource set version window\n",
      "Topic 38: game team play win player season score goal period lose\n",
      "Topic 39: datum model memory software data hardware application sheet feature analysis\n",
      "Topic 40: light time vote year draft world sun people human perfect\n",
      "Topic 41: hit good time year job run guy lot pitch average\n",
      "Topic 42: post mail list address send email information message reply newsgroup\n",
      "Topic 43: book write font read page reference quote library publish paper\n",
      "Topic 44: people group agent batf police warrant compound hear time feel\n",
      "Topic 45: love sin bike hate feel life hell good pray ride\n",
      "Topic 46: money current thing unit case company bad spend voltage people\n",
      "Topic 47: keyboard support price normal compatible key hand cheer kit work\n",
      "Topic 48: time lab experience sample element direction day good source ring\n",
      "Topic 49: phone problem buy water cost month work pay extra dealer\n",
      "\n",
      "\n",
      "Topic Diversity: 0.67 (used 0.0028 seconds)\n",
      "Topic Coherence u_mass: -2.5060013329892774 (used 0.4129 seconds)\n",
      "Topic Coherence c_v: 0.5255647833109358 (used 3.2288 seconds)\n"
     ]
    },
    {
     "name": "stderr",
     "output_type": "stream",
     "text": [
      "Training Model with 1 Parameter Combinations: 100%|██████████| 1/1 [00:21<00:00, 21.05s/it]"
     ]
    },
    {
     "name": "stdout",
     "output_type": "stream",
     "text": [
      "Topic Coherence c_npmi: 0.049314128447780006 (used 2.7238 seconds)\n"
     ]
    },
    {
     "name": "stderr",
     "output_type": "stream",
     "text": [
      "\n"
     ]
    }
   ],
   "source": [
    "# Train and evaluate the model\n",
    "trainer.train_and_evaluate(num_iterations)"
   ]
  }
 ],
 "metadata": {
  "kernelspec": {
   "display_name": "Agri-venv",
   "language": "python",
   "name": "python3"
  },
  "language_info": {
   "codemirror_mode": {
    "name": "ipython",
    "version": 3
   },
   "file_extension": ".py",
   "mimetype": "text/x-python",
   "name": "python",
   "nbconvert_exporter": "python",
   "pygments_lexer": "ipython3",
   "version": "3.9.18"
  }
 },
 "nbformat": 4,
 "nbformat_minor": 2
}
